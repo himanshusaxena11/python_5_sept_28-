{
 "cells": [
  {
   "cell_type": "markdown",
   "id": "4eebb0aa",
   "metadata": {},
   "source": [
    "# user input"
   ]
  },
  {
   "cell_type": "code",
   "execution_count": 1,
   "id": "2ba3831d",
   "metadata": {},
   "outputs": [
    {
     "name": "stdout",
     "output_type": "stream",
     "text": [
      "enter name and addresshgii bhho\n"
     ]
    }
   ],
   "source": [
    "x=input('enter name and address')"
   ]
  },
  {
   "cell_type": "code",
   "execution_count": 2,
   "id": "ab596503",
   "metadata": {},
   "outputs": [
    {
     "name": "stdout",
     "output_type": "stream",
     "text": [
      "enter marks scored in test44\n"
     ]
    }
   ],
   "source": [
    "x=int(input('enter marks scored in test'))"
   ]
  },
  {
   "cell_type": "code",
   "execution_count": 4,
   "id": "f7b1b8f1",
   "metadata": {},
   "outputs": [
    {
     "name": "stdout",
     "output_type": "stream",
     "text": [
      "enter value9\n",
      "enter value4\n",
      "13.0\n"
     ]
    }
   ],
   "source": [
    "a=int(input('enter value'))\n",
    "b=float(input('enter value'))\n",
    "print(a+b)"
   ]
  },
  {
   "cell_type": "code",
   "execution_count": 5,
   "id": "96d91ccb",
   "metadata": {},
   "outputs": [
    {
     "name": "stdout",
     "output_type": "stream",
     "text": [
      "enter nameghg\n",
      "enter valuelkls\n",
      "ghglkls\n"
     ]
    }
   ],
   "source": [
    "a=input('enter name')\n",
    "b=input('enter value')\n",
    "print(a+b)"
   ]
  },
  {
   "cell_type": "code",
   "execution_count": 6,
   "id": "729cf8ed",
   "metadata": {},
   "outputs": [
    {
     "name": "stdout",
     "output_type": "stream",
     "text": [
      "enter value4\n",
      "enter value6\n",
      "46\n"
     ]
    }
   ],
   "source": [
    "a=input('enter value')\n",
    "b=input('enter value')\n",
    "print(a+b)"
   ]
  },
  {
   "cell_type": "code",
   "execution_count": 9,
   "id": "f9fc38bc",
   "metadata": {},
   "outputs": [
    {
     "name": "stdout",
     "output_type": "stream",
     "text": [
      "8\n"
     ]
    }
   ],
   "source": [
    "#wap to find avg of a student in 4 subj?\n",
    "a=8\n",
    "b=9\n",
    "c=4\n",
    "d=11\n",
    "print((a+b+c+d)//4)"
   ]
  },
  {
   "cell_type": "code",
   "execution_count": 11,
   "id": "32a156df",
   "metadata": {},
   "outputs": [
    {
     "name": "stdout",
     "output_type": "stream",
     "text": [
      "enter age18\n",
      "adult\n"
     ]
    }
   ],
   "source": [
    "age =int(input('enter age'))\n",
    "if age>=18:\n",
    "    print('adult')\n",
    "elif age<18:\n",
    "    print('child')"
   ]
  },
  {
   "cell_type": "code",
   "execution_count": 12,
   "id": "20464e37",
   "metadata": {},
   "outputs": [
    {
     "name": "stdout",
     "output_type": "stream",
     "text": [
      "enter age11\n",
      "invalid input\n"
     ]
    }
   ],
   "source": [
    "age =int(input('enter age'))\n",
    "if age>18:\n",
    "    print('adult')\n",
    "elif age==18:\n",
    "    print('teen')\n",
    "else:\n",
    "    print('invalid input')"
   ]
  },
  {
   "cell_type": "code",
   "execution_count": 17,
   "id": "43b86a5d",
   "metadata": {},
   "outputs": [
    {
     "name": "stdout",
     "output_type": "stream",
     "text": [
      "enter dayfriday\n",
      "party to banti he\n"
     ]
    }
   ],
   "source": [
    "day=input('enter day')\n",
    "if day=='monday':\n",
    "    print('heavy workload')\n",
    "elif day=='friday':\n",
    "    print('party to banti he')\n",
    "else:\n",
    "    print('apna kaam kro bs')"
   ]
  },
  {
   "cell_type": "code",
   "execution_count": 19,
   "id": "c07be528",
   "metadata": {},
   "outputs": [
    {
     "name": "stdout",
     "output_type": "stream",
     "text": [
      "enter salary20000\n",
      "enter service period5\n",
      "better luck nxt time\n"
     ]
    }
   ],
   "source": [
    "# A company decided to give bonus of 15% to employee \n",
    "# if his/her year of service is more than 7 years.\n",
    "# Ask user for their salary and year of service \n",
    "# and print the net bonus amount.\n",
    "# Also try to print the net sal of emp after bonus.\n",
    "salary=int(input('enter salary'))\n",
    "service_period=int(input('enter service period'))\n",
    "if service_period>7:\n",
    "    bonus=salary*15/100\n",
    "    net_sal=salary+bonus\n",
    "    print('bonus',bonus)\n",
    "    print('net sal',net_sal)\n",
    "else:\n",
    "    print('better luck nxt time')"
   ]
  },
  {
   "cell_type": "code",
   "execution_count": 24,
   "id": "ded264e6",
   "metadata": {},
   "outputs": [
    {
     "name": "stdout",
     "output_type": "stream",
     "text": [
      "enter class held80\n",
      "enter attended class30\n",
      "perct 37.5\n",
      "type 'Y'for having med condn and 'N'for no med condnY\n",
      "allowed\n"
     ]
    }
   ],
   "source": [
    "# A student will not be allowed to sit in exam if his/her attendence is less than 60%.\n",
    "# Take following input from user\n",
    "# Number of classes held\n",
    "# Number of classes attended.\n",
    "# And print\n",
    "# percentage of class attended\n",
    "# Modify the question to allow student to sit if he/she has medical cause.\n",
    "# Ask user if he/she has medical cause or not ( 'Y' or 'N' ) and print accordingly.\n",
    "held_classes=int(input('enter class held'))\n",
    "attend_classes=int(input('enter attended class'))\n",
    "perct= (attend_classes/held_classes)*100\n",
    "print('perct',perct)\n",
    "if perct<60:\n",
    "    condn=input(\"type 'Y'for having med condn and 'N'for no med condn\")\n",
    "    if condn=='Y':\n",
    "        print('allowed')\n",
    "    else:\n",
    "        print('not allowed')"
   ]
  },
  {
   "cell_type": "code",
   "execution_count": null,
   "id": "6700ec13",
   "metadata": {},
   "outputs": [],
   "source": []
  }
 ],
 "metadata": {
  "kernelspec": {
   "display_name": "Python 3 (ipykernel)",
   "language": "python",
   "name": "python3"
  },
  "language_info": {
   "codemirror_mode": {
    "name": "ipython",
    "version": 3
   },
   "file_extension": ".py",
   "mimetype": "text/x-python",
   "name": "python",
   "nbconvert_exporter": "python",
   "pygments_lexer": "ipython3",
   "version": "3.9.12"
  }
 },
 "nbformat": 4,
 "nbformat_minor": 5
}
